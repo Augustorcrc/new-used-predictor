{
 "cells": [
  {
   "cell_type": "code",
   "execution_count": 1,
   "metadata": {},
   "outputs": [
    {
     "name": "stdout",
     "output_type": "stream",
     "text": [
      "Directorio base: c:\\Users\\agu_r\\repositorios\\new-used-predictor\\src\n",
      "Ruta del dataset: c:\\Users\\agu_r\\repositorios\\new-used-predictor\\src\\..\\data\\MLA_100k_checked_v3.jsonlines\n"
     ]
    }
   ],
   "source": [
    "import pandas as pd\n",
    "import matplotlib.pyplot as plt\n",
    "import seaborn as sns\n",
    "import json\n",
    "import ast\n",
    "import sys\n",
    "import os\n",
    "sys.path.append(os.path.abspath('..'))\n",
    "\n",
    "from new_or_used import build_dataset\n",
    "from utils import get_ordered_columns, extract_id_from_string_list, tune_model, scale_data\n",
    "from preprocessing import preprocess\n",
    "\n",
    "\n",
    "import time\n",
    "\n",
    "# Modelos\n",
    "from sklearn import ensemble, linear_model, neighbors, svm, tree, discriminant_analysis, neural_network, naive_bayes\n",
    "from xgboost import XGBClassifier\n",
    "from sklearn.model_selection import RandomizedSearchCV\n",
    "from sklearn.ensemble import RandomForestClassifier\n",
    "from lightgbm import LGBMClassifier\n",
    "from catboost import CatBoostClassifier\n",
    "\n",
    "# Métricas\n",
    "from sklearn.metrics import (\n",
    "    accuracy_score,\n",
    "    precision_score,\n",
    "    recall_score,\n",
    "    f1_score\n",
    ")\n",
    "\n",
    "from sklearn.preprocessing import MinMaxScaler\n",
    "import random\n",
    "\n",
    "\n",
    "\n"
   ]
  },
  {
   "cell_type": "markdown",
   "metadata": {},
   "source": [
    "# Análisis Exploratorio de Datos (EDA)\n",
    "\n",
    "En esta notebook se realiza un análisis exploratorio del dataset provisto con el objetivo de entender su estructura, calidad, y las principales variables que pueden influir en la predicción del estado de los productos (nuevo o usado). El análisis incluye:\n",
    "\n",
    "- Inspección de variables clave y su distribución\n",
    "- Identificación de valores faltantes y datos inconsistentes\n",
    "- Análisis de correlaciones y relaciones entre variables\n",
    "- Revisión de campos anidados o estructurados (listas, diccionarios)\n",
    "- Extracción de primeras hipótesis y features potencialmente útiles\n",
    "\n",
    "Este EDA servirá como base para la etapa de modelado y selección de features.\n"
   ]
  },
  {
   "cell_type": "markdown",
   "metadata": {},
   "source": [
    "## Preprocesado de datos\n",
    "\n",
    "- Se desglosa la data proveniente en una lista de diccionarios en un dataframe con el que se trabajara."
   ]
  },
  {
   "cell_type": "code",
   "execution_count": 2,
   "metadata": {},
   "outputs": [
    {
     "name": "stdout",
     "output_type": "stream",
     "text": [
      " Directorio base: c:\\Users\\agu_r\\repositorios\\new-used-predictor\\src\n",
      " Ruta del dataset: c:\\Users\\agu_r\\repositorios\\new-used-predictor\\data\\MLA_100k_checked_v3.jsonlines\n"
     ]
    }
   ],
   "source": [
    "# ruta del directorio base y del dataset\n",
    "BASE_DIR = os.getcwd()\n",
    "print(f\" Directorio base: {BASE_DIR}\")\n",
    "\n",
    "DATA_PATH = os.path.abspath(os.path.join(BASE_DIR, \"..\", \"data\", \"MLA_100k_checked_v3.jsonlines\"))\n",
    "print(f\" Ruta del dataset: {DATA_PATH}\")\n",
    "\n",
    "data = [json.loads(x) for x in open(DATA_PATH)]"
   ]
  },
  {
   "cell_type": "code",
   "execution_count": 3,
   "metadata": {},
   "outputs": [],
   "source": [
    "\n",
    "# Convertir a DataFrame aplanado\n",
    "df = pd.json_normalize(data)\n",
    "\n",
    "# Ordenar columnas\n",
    "ordered_cols = get_ordered_columns(data)\n",
    "df = df[[col for col in ordered_cols if col in df.columns]]\n",
    "\n",
    "# Opcional: reemplazar puntos por guiones bajos\n",
    "df.columns = [col.replace('.', '_') for col in df.columns]\n",
    "\n",
    "\n",
    "# Cambio a str el valro de descriptions ya que viene en lista de str\n",
    "df['descriptions'] = df['descriptions'].apply(extract_id_from_string_list)"
   ]
  },
  {
   "cell_type": "code",
   "execution_count": 4,
   "metadata": {},
   "outputs": [
    {
     "data": {
      "text/plain": [
       "Index(['seller_address_country_name', 'seller_address_country_id',\n",
       "       'seller_address_state_name', 'seller_address_state_id',\n",
       "       'seller_address_city_name', 'seller_address_city_id', 'warranty',\n",
       "       'sub_status', 'condition', 'deal_ids', 'base_price',\n",
       "       'shipping_local_pick_up', 'shipping_methods', 'shipping_tags',\n",
       "       'shipping_free_shipping', 'shipping_mode', 'shipping_dimensions',\n",
       "       'non_mercado_pago_payment_methods', 'seller_id', 'variations',\n",
       "       'site_id', 'listing_type_id', 'price', 'attributes', 'buying_mode',\n",
       "       'tags', 'listing_source', 'parent_item_id', 'coverage_areas',\n",
       "       'category_id', 'descriptions', 'last_updated',\n",
       "       'international_delivery_mode', 'pictures', 'id', 'official_store_id',\n",
       "       'differential_pricing', 'accepts_mercadopago', 'original_price',\n",
       "       'currency_id', 'thumbnail', 'title', 'automatic_relist', 'date_created',\n",
       "       'secure_thumbnail', 'stop_time', 'status', 'video_id',\n",
       "       'catalog_product_id', 'subtitle', 'initial_quantity', 'start_time',\n",
       "       'permalink', 'sold_quantity', 'available_quantity'],\n",
       "      dtype='object')"
      ]
     },
     "execution_count": 4,
     "metadata": {},
     "output_type": "execute_result"
    }
   ],
   "source": [
    "df.columns"
   ]
  },
  {
   "cell_type": "markdown",
   "metadata": {},
   "source": [
    "## Analisis de los  atributos "
   ]
  },
  {
   "cell_type": "code",
   "execution_count": 5,
   "metadata": {},
   "outputs": [
    {
     "data": {
      "text/html": [
       "<div>\n",
       "<style scoped>\n",
       "    .dataframe tbody tr th:only-of-type {\n",
       "        vertical-align: middle;\n",
       "    }\n",
       "\n",
       "    .dataframe tbody tr th {\n",
       "        vertical-align: top;\n",
       "    }\n",
       "\n",
       "    .dataframe thead th {\n",
       "        text-align: right;\n",
       "    }\n",
       "</style>\n",
       "<table border=\"1\" class=\"dataframe\">\n",
       "  <thead>\n",
       "    <tr style=\"text-align: right;\">\n",
       "      <th></th>\n",
       "      <th>seller_address_country_name</th>\n",
       "      <th>seller_address_country_id</th>\n",
       "      <th>seller_address_state_name</th>\n",
       "      <th>seller_address_state_id</th>\n",
       "      <th>seller_address_city_name</th>\n",
       "      <th>seller_address_city_id</th>\n",
       "      <th>warranty</th>\n",
       "      <th>sub_status</th>\n",
       "      <th>condition</th>\n",
       "      <th>deal_ids</th>\n",
       "      <th>...</th>\n",
       "      <th>stop_time</th>\n",
       "      <th>status</th>\n",
       "      <th>video_id</th>\n",
       "      <th>catalog_product_id</th>\n",
       "      <th>subtitle</th>\n",
       "      <th>initial_quantity</th>\n",
       "      <th>start_time</th>\n",
       "      <th>permalink</th>\n",
       "      <th>sold_quantity</th>\n",
       "      <th>available_quantity</th>\n",
       "    </tr>\n",
       "  </thead>\n",
       "  <tbody>\n",
       "    <tr>\n",
       "      <th>0</th>\n",
       "      <td>Argentina</td>\n",
       "      <td>AR</td>\n",
       "      <td>Capital Federal</td>\n",
       "      <td>AR-C</td>\n",
       "      <td>San Cristóbal</td>\n",
       "      <td>TUxBQlNBTjkwNTZa</td>\n",
       "      <td>None</td>\n",
       "      <td>[]</td>\n",
       "      <td>new</td>\n",
       "      <td>[]</td>\n",
       "      <td>...</td>\n",
       "      <td>1446669773000</td>\n",
       "      <td>active</td>\n",
       "      <td>None</td>\n",
       "      <td>NaN</td>\n",
       "      <td>None</td>\n",
       "      <td>1</td>\n",
       "      <td>1441485773000</td>\n",
       "      <td>http://articulo.mercadolibre.com.ar/MLA4695330...</td>\n",
       "      <td>0</td>\n",
       "      <td>1</td>\n",
       "    </tr>\n",
       "    <tr>\n",
       "      <th>1</th>\n",
       "      <td>Argentina</td>\n",
       "      <td>AR</td>\n",
       "      <td>Capital Federal</td>\n",
       "      <td>AR-C</td>\n",
       "      <td>Buenos Aires</td>\n",
       "      <td></td>\n",
       "      <td>NUESTRA REPUTACION</td>\n",
       "      <td>[]</td>\n",
       "      <td>used</td>\n",
       "      <td>[]</td>\n",
       "      <td>...</td>\n",
       "      <td>1448474910000</td>\n",
       "      <td>active</td>\n",
       "      <td>None</td>\n",
       "      <td>NaN</td>\n",
       "      <td>None</td>\n",
       "      <td>1</td>\n",
       "      <td>1443290910000</td>\n",
       "      <td>http://articulo.mercadolibre.com.ar/MLA7160447...</td>\n",
       "      <td>0</td>\n",
       "      <td>1</td>\n",
       "    </tr>\n",
       "    <tr>\n",
       "      <th>2</th>\n",
       "      <td>Argentina</td>\n",
       "      <td>AR</td>\n",
       "      <td>Capital Federal</td>\n",
       "      <td>AR-C</td>\n",
       "      <td>Boedo</td>\n",
       "      <td>TUxBQkJPRTQ0OTRa</td>\n",
       "      <td>None</td>\n",
       "      <td>[]</td>\n",
       "      <td>used</td>\n",
       "      <td>[]</td>\n",
       "      <td>...</td>\n",
       "      <td>1447027027000</td>\n",
       "      <td>active</td>\n",
       "      <td>None</td>\n",
       "      <td>NaN</td>\n",
       "      <td>None</td>\n",
       "      <td>1</td>\n",
       "      <td>1441843027000</td>\n",
       "      <td>http://articulo.mercadolibre.com.ar/MLA7367189...</td>\n",
       "      <td>0</td>\n",
       "      <td>1</td>\n",
       "    </tr>\n",
       "    <tr>\n",
       "      <th>3</th>\n",
       "      <td>Argentina</td>\n",
       "      <td>AR</td>\n",
       "      <td>Capital Federal</td>\n",
       "      <td>AR-C</td>\n",
       "      <td>Floresta</td>\n",
       "      <td>TUxBQkZMTzg5MjFa</td>\n",
       "      <td>None</td>\n",
       "      <td>[]</td>\n",
       "      <td>new</td>\n",
       "      <td>[]</td>\n",
       "      <td>...</td>\n",
       "      <td>1449191596000</td>\n",
       "      <td>active</td>\n",
       "      <td>None</td>\n",
       "      <td>NaN</td>\n",
       "      <td>None</td>\n",
       "      <td>1</td>\n",
       "      <td>1443466076000</td>\n",
       "      <td>http://articulo.mercadolibre.com.ar/MLA9191625...</td>\n",
       "      <td>0</td>\n",
       "      <td>1</td>\n",
       "    </tr>\n",
       "    <tr>\n",
       "      <th>4</th>\n",
       "      <td>Argentina</td>\n",
       "      <td>AR</td>\n",
       "      <td>Buenos Aires</td>\n",
       "      <td>AR-B</td>\n",
       "      <td>Tres de febrero</td>\n",
       "      <td>TUxBQ1RSRTMxODE5NA</td>\n",
       "      <td>MI REPUTACION.</td>\n",
       "      <td>[]</td>\n",
       "      <td>used</td>\n",
       "      <td>[]</td>\n",
       "      <td>...</td>\n",
       "      <td>1445638040000</td>\n",
       "      <td>active</td>\n",
       "      <td>None</td>\n",
       "      <td>NaN</td>\n",
       "      <td>None</td>\n",
       "      <td>1</td>\n",
       "      <td>1440454040000</td>\n",
       "      <td>http://articulo.mercadolibre.com.ar/MLA7787961...</td>\n",
       "      <td>0</td>\n",
       "      <td>1</td>\n",
       "    </tr>\n",
       "  </tbody>\n",
       "</table>\n",
       "<p>5 rows × 55 columns</p>\n",
       "</div>"
      ],
      "text/plain": [
       "  seller_address_country_name seller_address_country_id  \\\n",
       "0                   Argentina                        AR   \n",
       "1                   Argentina                        AR   \n",
       "2                   Argentina                        AR   \n",
       "3                   Argentina                        AR   \n",
       "4                   Argentina                        AR   \n",
       "\n",
       "  seller_address_state_name seller_address_state_id seller_address_city_name  \\\n",
       "0           Capital Federal                    AR-C            San Cristóbal   \n",
       "1           Capital Federal                    AR-C             Buenos Aires   \n",
       "2           Capital Federal                    AR-C                    Boedo   \n",
       "3           Capital Federal                    AR-C                 Floresta   \n",
       "4              Buenos Aires                    AR-B          Tres de febrero   \n",
       "\n",
       "  seller_address_city_id            warranty sub_status condition deal_ids  \\\n",
       "0       TUxBQlNBTjkwNTZa                None         []       new       []   \n",
       "1                         NUESTRA REPUTACION         []      used       []   \n",
       "2       TUxBQkJPRTQ0OTRa                None         []      used       []   \n",
       "3       TUxBQkZMTzg5MjFa                None         []       new       []   \n",
       "4     TUxBQ1RSRTMxODE5NA      MI REPUTACION.         []      used       []   \n",
       "\n",
       "   ...      stop_time  status video_id catalog_product_id  subtitle  \\\n",
       "0  ...  1446669773000  active     None                NaN      None   \n",
       "1  ...  1448474910000  active     None                NaN      None   \n",
       "2  ...  1447027027000  active     None                NaN      None   \n",
       "3  ...  1449191596000  active     None                NaN      None   \n",
       "4  ...  1445638040000  active     None                NaN      None   \n",
       "\n",
       "  initial_quantity     start_time  \\\n",
       "0                1  1441485773000   \n",
       "1                1  1443290910000   \n",
       "2                1  1441843027000   \n",
       "3                1  1443466076000   \n",
       "4                1  1440454040000   \n",
       "\n",
       "                                           permalink  sold_quantity  \\\n",
       "0  http://articulo.mercadolibre.com.ar/MLA4695330...              0   \n",
       "1  http://articulo.mercadolibre.com.ar/MLA7160447...              0   \n",
       "2  http://articulo.mercadolibre.com.ar/MLA7367189...              0   \n",
       "3  http://articulo.mercadolibre.com.ar/MLA9191625...              0   \n",
       "4  http://articulo.mercadolibre.com.ar/MLA7787961...              0   \n",
       "\n",
       "  available_quantity  \n",
       "0                  1  \n",
       "1                  1  \n",
       "2                  1  \n",
       "3                  1  \n",
       "4                  1  \n",
       "\n",
       "[5 rows x 55 columns]"
      ]
     },
     "execution_count": 5,
     "metadata": {},
     "output_type": "execute_result"
    }
   ],
   "source": [
    "df.head()"
   ]
  },
  {
   "cell_type": "markdown",
   "metadata": {},
   "source": [
    "#### Analizamos la columna condition que es el target"
   ]
  },
  {
   "cell_type": "code",
   "execution_count": 6,
   "metadata": {},
   "outputs": [
    {
     "data": {
      "image/png": "[encoded data removed]",
      "text/plain": [
       "<Figure size 700x700 with 1 Axes>"
      ]
     },
     "metadata": {},
     "output_type": "display_data"
    }
   ],
   "source": [
    "\n",
    "\n",
    "col = 'condition'\n",
    "counts = df[col].value_counts()\n",
    "\n",
    "# Colores personalizados (puede ser lista de hex, nombres, etc.)\n",
    "colors = [\"#66bea2\", '#fc8d62', '#8da0cb', '#e78ac3']  \n",
    "\n",
    "# Explode: separa un poco cada porción\n",
    "explode = [0.03] * len(counts)  # separa todos igual\n",
    "\n",
    "# Graficar\n",
    "plt.figure(figsize=(7, 7))\n",
    "plt.pie(\n",
    "    counts,\n",
    "    labels=counts.index,\n",
    "    autopct='%1.1f%%',\n",
    "    startangle=90,\n",
    "    counterclock=False,\n",
    "    colors=colors[:len(counts)],\n",
    "    explode=explode,\n",
    "    shadow=True\n",
    ")\n",
    "plt.title(f'Distribución del target: {col}')\n",
    "plt.ylabel('')  # Oculta etiqueta del eje Y\n",
    "plt.show()\n"
   ]
  },
  {
   "cell_type": "markdown",
   "metadata": {},
   "source": [
    "El target esta bien balanceado por lo que no seran necesario trabajo en este aspecto\n"
   ]
  },
  {
   "cell_type": "markdown",
   "metadata": {},
   "source": [
    "#### Analizamos el resto de columnas"
   ]
  },
  {
   "cell_type": "code",
   "execution_count": 7,
   "metadata": {},
   "outputs": [
    {
     "name": "stdout",
     "output_type": "stream",
     "text": [
      "<class 'pandas.core.frame.DataFrame'>\n",
      "RangeIndex: 100000 entries, 0 to 99999\n",
      "Data columns (total 55 columns):\n",
      " #   Column                            Non-Null Count   Dtype  \n",
      "---  ------                            --------------   -----  \n",
      " 0   seller_address_country_name       100000 non-null  object \n",
      " 1   seller_address_country_id         100000 non-null  object \n",
      " 2   seller_address_state_name         100000 non-null  object \n",
      " 3   seller_address_state_id           100000 non-null  object \n",
      " 4   seller_address_city_name          100000 non-null  object \n",
      " 5   seller_address_city_id            100000 non-null  object \n",
      " 6   warranty                          39104 non-null   object \n",
      " 7   sub_status                        100000 non-null  object \n",
      " 8   condition                         100000 non-null  object \n",
      " 9   deal_ids                          100000 non-null  object \n",
      " 10  base_price                        100000 non-null  float64\n",
      " 11  shipping_local_pick_up            100000 non-null  bool   \n",
      " 12  shipping_methods                  96992 non-null   object \n",
      " 13  shipping_tags                     100000 non-null  object \n",
      " 14  shipping_free_shipping            100000 non-null  bool   \n",
      " 15  shipping_mode                     100000 non-null  object \n",
      " 16  shipping_dimensions               23 non-null      object \n",
      " 17  non_mercado_pago_payment_methods  100000 non-null  object \n",
      " 18  seller_id                         100000 non-null  int64  \n",
      " 19  variations                        100000 non-null  object \n",
      " 20  site_id                           100000 non-null  object \n",
      " 21  listing_type_id                   100000 non-null  object \n",
      " 22  price                             100000 non-null  float64\n",
      " 23  attributes                        100000 non-null  object \n",
      " 24  buying_mode                       100000 non-null  object \n",
      " 25  tags                              100000 non-null  object \n",
      " 26  listing_source                    100000 non-null  object \n",
      " 27  parent_item_id                    76989 non-null   object \n",
      " 28  coverage_areas                    100000 non-null  object \n",
      " 29  category_id                       100000 non-null  object \n",
      " 30  descriptions                      97312 non-null   object \n",
      " 31  last_updated                      100000 non-null  object \n",
      " 32  international_delivery_mode       100000 non-null  object \n",
      " 33  pictures                          100000 non-null  object \n",
      " 34  id                                100000 non-null  object \n",
      " 35  official_store_id                 818 non-null     float64\n",
      " 36  differential_pricing              0 non-null       object \n",
      " 37  accepts_mercadopago               100000 non-null  bool   \n",
      " 38  original_price                    143 non-null     float64\n",
      " 39  currency_id                       100000 non-null  object \n",
      " 40  thumbnail                         100000 non-null  object \n",
      " 41  title                             100000 non-null  object \n",
      " 42  automatic_relist                  100000 non-null  bool   \n",
      " 43  date_created                      100000 non-null  object \n",
      " 44  secure_thumbnail                  100000 non-null  object \n",
      " 45  stop_time                         100000 non-null  int64  \n",
      " 46  status                            100000 non-null  object \n",
      " 47  video_id                          2985 non-null    object \n",
      " 48  catalog_product_id                11 non-null      float64\n",
      " 49  subtitle                          0 non-null       object \n",
      " 50  initial_quantity                  100000 non-null  int64  \n",
      " 51  start_time                        100000 non-null  int64  \n",
      " 52  permalink                         100000 non-null  object \n",
      " 53  sold_quantity                     100000 non-null  int64  \n",
      " 54  available_quantity                100000 non-null  int64  \n",
      "dtypes: bool(4), float64(5), int64(6), object(40)\n",
      "memory usage: 39.3+ MB\n"
     ]
    }
   ],
   "source": [
    "# Observo cantidad de nulos y tipos\n",
    "df.info()"
   ]
  },
  {
   "cell_type": "code",
   "execution_count": 8,
   "metadata": {},
   "outputs": [
    {
     "name": "stdout",
     "output_type": "stream",
     "text": [
      "¿Hay listas NO vacías en 'sub_status'?: True\n",
      "¿Hay listas NO vacías en 'deal_ids'?: True\n",
      "¿Hay listas NO vacías en 'shipping_methods'?: False\n",
      "¿Hay listas NO vacías en 'shipping_tags'?: True\n",
      "¿Hay listas NO vacías en 'non_mercado_pago_payment_methods'?: True\n",
      "¿Hay listas NO vacías en 'variations'?: True\n",
      "¿Hay listas NO vacías en 'attributes'?: True\n",
      "¿Hay listas NO vacías en 'tags'?: True\n",
      "¿Hay listas NO vacías en 'coverage_areas'?: False\n",
      "¿Hay listas NO vacías en 'pictures'?: True\n"
     ]
    }
   ],
   "source": [
    "# Evaluo que contienen las columnas que tiene como valor listas \n",
    "for col_name in df.columns:\n",
    "    if df[col_name].apply(lambda x: isinstance(x, list)).any():\n",
    "        has_non_empty_lists = df[col_name].apply(lambda x: isinstance(x, list) and len(x) > 0).any()\n",
    "        print(f\"¿Hay listas NO vacías en '{col_name}'?: {has_non_empty_lists}\")\n",
    "    else:\n",
    "        pass\n"
   ]
  },
  {
   "cell_type": "code",
   "execution_count": 9,
   "metadata": {},
   "outputs": [
    {
     "name": "stdout",
     "output_type": "stream",
     "text": [
      "[{'attribute_combinations': [{'value_id': '92012', 'name': 'Color Primario', 'value_name': 'Azul petróleo', 'id': '83000'}, {'value_id': '82034', 'name': 'Color Secundario', 'value_name': 'Amarillo', 'id': '73001'}, {'value_id': '141996', 'name': 'Talle', 'value_name': '8', 'id': '103000'}], 'seller_custom_field': None, 'picture_ids': ['472901-MLA20442937232_102015', '509801-MLA20442939057_102015', '650901-MLA20442940047_102015', '373901-MLA20442951026_102015', '422901-MLA20442950410_102015'], 'sold_quantity': 0, 'available_quantity': 1, 'id': 9742952789, 'price': 180}]\n",
      "[{'value_id': '', 'attribute_group_id': 'DFLT', 'name': 'Número de pieza', 'value_name': '37123', 'attribute_group_name': 'Otros', 'id': 'PART_NUMBER'}]\n"
     ]
    }
   ],
   "source": [
    "print(df[df['variations'].apply(lambda x: isinstance(x, list) and len(x) > 0)]['variations'][6])\n",
    "print(df[df['attributes'].apply(lambda x: isinstance(x, list) and len(x) > 0)]['attributes'][8])"
   ]
  },
  {
   "cell_type": "code",
   "execution_count": 10,
   "metadata": {},
   "outputs": [
    {
     "data": {
      "text/plain": [
       "warranty\n",
       "Sí                                                                                                                                                                5682\n",
       "Sin garantía                                                                                                                                                      5442\n",
       "SI                                                                                                                                                                 592\n",
       "6 meses                                                                                                                                                            547\n",
       "6 MESES                                                                                                                                                            397\n",
       "                                                                                                                                                                  ... \n",
       "Al retirar se comprobara el perfecto funcionamiento y que esta nuevo\\r\\nsolo se uso tres veces.                                                                      1\n",
       "Válida por tres (3) años para el DVR y un (1) año para HD.\\r\\nPerdiendo su valor por agentes ajenos a los artículos vendidos.\\r\\nSólo por defectos de fábrica.       1\n",
       "USADO EN EXCELENTE ESTADO                                                                                                                                            1\n",
       "TENEMOS LOCAL DE VENTA AL PUBLICO EN LA ZONA DE VILLA DEL PARQUE                                                                                                     1\n",
       "Garantia otorgada por el importador .                                                                                                                                1\n",
       "Name: count, Length: 10264, dtype: int64"
      ]
     },
     "execution_count": 10,
     "metadata": {},
     "output_type": "execute_result"
    }
   ],
   "source": [
    "# Evaluo la distribucion de cada variable. No se printea todas debido a la cantidad de datos, voy analizando una por una\n",
    "df['warranty'].value_counts()"
   ]
  },
  {
   "cell_type": "markdown",
   "metadata": {},
   "source": [
    "### Estudiando atributo por atributo se observa:\n",
    "\n",
    "\n",
    "- \"sub_status\" tiene > 80% de listas vacias como valor\n",
    "\n",
    "- \"condition\", que es el target, esta balanceado\n",
    "\n",
    "- \"deal_ids\" tiene > 80% de listas vacias como valor\n",
    "\n",
    "- \"shipping_methods\" contiene todas las entradas con listas vacias o Nan\n",
    "\n",
    "- \"shipping_tags\" tiene > 80% de listas vacias como valor\n",
    "\n",
    "- \"shipping_free_shipping\" tiene > 95% valor False \n",
    "\n",
    "- \"non_mercado_pago_payment_methods\" contiene como valor listas de diccionarios, en este caso se podria realizar feature de cuantos metodos hay que no sean mp\n",
    "\n",
    "- \"variations\" contiene como valor listas de diccionarios. Por lo pronto se podria descartar en un primera iteracion debido a que a priori no contiene informacion \"relevante\"\n",
    "\n",
    "- \"attributes\" contiene como valor listas de diccionarios. Por lo pronto se podria descartar en un primera iteracion debido a que a priori no contiene informacion \"relevante\"\n",
    "\n",
    "- \"coverage_areas\" contiene todas listas vacias como valor\n",
    "\n",
    "- \"listing_source\" contiene todas string vacias como valor\n",
    "\n",
    "- \"international_delivery_mode\" contiene \"none\" en todas las entradas\n",
    "\n",
    "- \"pictures\" contiene como valor listas de diccionarios, en este caso se podria realizar feature de cuantas pictures hay\n",
    "\n",
    "- \"id\" y \"descriptions\" parecen ser lo mismo pero con mas detalle. El primer valor de description es el id, este es seguido por otro codigo\n",
    "\n",
    "- \"status\" tiene > 95% de valor de entrada \"active\"\n",
    "\n",
    "- \"warranty\" contiene ~40% de valores NO nulos. No estan normalizados los valores, se puede hacer un binario de si tiene o no garantia\n",
    "\n",
    "- \"shipping_dimensions\"  contiene < 10% de valores NO nulos\n",
    "\n",
    "- \"official_store_id\"    contiene < 10% de valores NO nulos\n",
    "\n",
    "- \"differential_pricing\" contiene < 10% de valores NO nulos\n",
    "\n",
    "- \"original_price\"       contiene < 10% de valores NO nulos\n",
    "\n",
    "- \"video_id\"             contiene < 10% de valores NO nulos\n",
    "\n",
    "- \"catalog_product_id\"   contiene < 10% de valores NO nulos\n",
    "\n",
    "- \"subtitle\"             contiene < 10% de valores NO nulos"
   ]
  },
  {
   "cell_type": "markdown",
   "metadata": {},
   "source": [
    "#### Estudiamos la correlacion que tengan a priori las columnas numericas con el target. Se lleva a Int las columnas booleanas"
   ]
  },
  {
   "cell_type": "code",
   "execution_count": 11,
   "metadata": {},
   "outputs": [],
   "source": [
    "\n",
    "df_matriz = df.copy()\n",
    "\n",
    "# target a binario\n",
    "df_matriz['condition'] = df_matriz['condition'].map({'new': 1, 'used': 0})\n",
    "\n",
    "\n",
    "# Convertir a int col booleanas\n",
    "bool_cols = df_matriz.select_dtypes(include='bool').columns\n",
    "df_matriz[bool_cols] = df_matriz[bool_cols].astype(int)\n",
    "\n",
    "\n",
    "\n",
    "numeric_df = df_matriz.select_dtypes(include=['number'])\n",
    "\n",
    "\n",
    "# Conservo solo columnas con al menos 20% de datos no nulos (hasta 80% de nulos)\n",
    "numeric_df_clean = numeric_df.dropna(thresh=int(0.2 * len(numeric_df)), axis=1)\n",
    "corr_matrix = numeric_df_clean.corr()\n"
   ]
  },
  {
   "cell_type": "code",
   "execution_count": 12,
   "metadata": {},
   "outputs": [
    {
     "data": {
      "image/png": "[encoded data removed]",
      "text/plain": [
       "<Figure size 1000x800 with 2 Axes>"
      ]
     },
     "metadata": {},
     "output_type": "display_data"
    }
   ],
   "source": [
    "plt.figure(figsize=(10, 8))\n",
    "sns.heatmap(\n",
    "    corr_matrix,\n",
    "    annot=True,         # Muestra los valores\n",
    "    fmt=\".2f\",          # Formato con 2 decimales\n",
    "    cmap=\"coolwarm\",    # Paleta de colores\n",
    "    square=True,        # Cuadrados proporcionales\n",
    "    linewidths=0.5,     # Líneas entre celdas\n",
    "    cbar_kws={\"shrink\": 0.8}  # Barra lateral más compacta\n",
    ")\n",
    "plt.title(\"Matriz de correlación\")\n",
    "plt.tight_layout()\n",
    "plt.show()"
   ]
  },
  {
   "cell_type": "markdown",
   "metadata": {},
   "source": [
    "#### Enlistamos las columnas que mas correlacion tienen con el target. Intuimos estas seran las que mas expliquen la condicion del producto\n"
   ]
  },
  {
   "cell_type": "code",
   "execution_count": 13,
   "metadata": {},
   "outputs": [
    {
     "name": "stdout",
     "output_type": "stream",
     "text": [
      "Top de correlaciones con el target:\n",
      "automatic_relist          0.19\n",
      "shipping_free_shipping    0.14\n",
      "accepts_mercadopago       0.09\n",
      "initial_quantity          0.07\n",
      "available_quantity        0.07\n",
      "sold_quantity             0.05\n",
      "shipping_local_pick_up    0.04\n",
      "stop_time                 0.02\n",
      "start_time                0.01\n",
      "seller_id                -0.01\n",
      "Name: condition, dtype: float64\n"
     ]
    }
   ],
   "source": [
    "correlations = numeric_df_clean.corr()['condition'].drop('condition') \n",
    "top_corr = correlations.reindex(correlations.abs().sort_values(ascending=False).index)\n",
    "\n",
    "print('Top de correlaciones con el target:')\n",
    "print(top_corr.head(10).round(2))\n"
   ]
  },
  {
   "cell_type": "code",
   "execution_count": 14,
   "metadata": {},
   "outputs": [
    {
     "data": {
      "image/png": "[encoded data removed]",
      "text/plain": [
       "<Figure size 800x500 with 1 Axes>"
      ]
     },
     "metadata": {},
     "output_type": "display_data"
    }
   ],
   "source": [
    "import seaborn as sns\n",
    "import matplotlib.pyplot as plt\n",
    "\n",
    "top_corr_10 = top_corr.head(10)\n",
    "\n",
    "plt.figure(figsize=(8, 5))\n",
    "sns.barplot(x=top_corr_10.values, y=top_corr_10.index)\n",
    "plt.title(\"Top correlaciones con 'condition'\")\n",
    "plt.xlabel(\"Correlación\")\n",
    "plt.xlim(-1, 1)\n",
    "\n",
    "for i, v in enumerate(top_corr_10.values):\n",
    "    plt.text(v, i, f\"{v:.2f}\", color='black', va='center')\n",
    "\n",
    "plt.tight_layout()\n",
    "plt.show()\n"
   ]
  },
  {
   "cell_type": "markdown",
   "metadata": {},
   "source": [
    "#### Observamos la cantidad de valores unicos que contienen las columnas categoricas"
   ]
  },
  {
   "cell_type": "code",
   "execution_count": 15,
   "metadata": {},
   "outputs": [
    {
     "name": "stdout",
     "output_type": "stream",
     "text": [
      "Columna 'seller_address_country_name' tiene 2 valores únicos.\n",
      "Columna 'seller_address_country_id' tiene 2 valores únicos.\n",
      "Columna 'seller_address_state_name' tiene 25 valores únicos.\n",
      "Columna 'seller_address_state_id' tiene 25 valores únicos.\n",
      "Columna 'seller_address_city_name' tiene 3656 valores únicos.\n",
      "Columna 'seller_address_city_id' tiene 295 valores únicos.\n",
      "Columna 'warranty' tiene 10264 valores únicos.\n",
      "Columna 'sub_status' contiene listas o arrays, se omite.\n",
      "Columna 'condition' tiene 2 valores únicos.\n",
      "Columna 'deal_ids' contiene listas o arrays, se omite.\n",
      "Columna 'shipping_methods' contiene listas o arrays, se omite.\n",
      "Columna 'shipping_tags' contiene listas o arrays, se omite.\n",
      "Columna 'shipping_mode' tiene 4 valores únicos.\n",
      "Columna 'shipping_dimensions' tiene 13 valores únicos.\n",
      "Columna 'non_mercado_pago_payment_methods' contiene listas o arrays, se omite.\n",
      "Columna 'variations' contiene listas o arrays, se omite.\n",
      "Columna 'site_id' tiene 1 valores únicos.\n",
      "Columna 'listing_type_id' tiene 7 valores únicos.\n",
      "Columna 'attributes' contiene listas o arrays, se omite.\n",
      "Columna 'buying_mode' tiene 3 valores únicos.\n",
      "Columna 'tags' contiene listas o arrays, se omite.\n",
      "Columna 'listing_source' tiene 1 valores únicos.\n",
      "Columna 'parent_item_id' tiene 76989 valores únicos.\n",
      "Columna 'coverage_areas' contiene listas o arrays, se omite.\n",
      "Columna 'category_id' tiene 10907 valores únicos.\n",
      "Columna 'descriptions' tiene 97312 valores únicos.\n",
      "Columna 'last_updated' tiene 95124 valores únicos.\n",
      "Columna 'international_delivery_mode' tiene 1 valores únicos.\n",
      "Columna 'pictures' contiene listas o arrays, se omite.\n",
      "Columna 'id' tiene 100000 valores únicos.\n",
      "Columna 'differential_pricing' tiene 0 valores únicos.\n",
      "Columna 'currency_id' tiene 2 valores únicos.\n",
      "Columna 'thumbnail' tiene 99172 valores únicos.\n",
      "Columna 'title' tiene 98823 valores únicos.\n",
      "Columna 'date_created' tiene 87075 valores únicos.\n",
      "Columna 'secure_thumbnail' tiene 99172 valores únicos.\n",
      "Columna 'status' tiene 4 valores únicos.\n",
      "Columna 'video_id' tiene 2077 valores únicos.\n",
      "Columna 'subtitle' tiene 0 valores únicos.\n",
      "Columna 'permalink' tiene 100000 valores únicos.\n"
     ]
    }
   ],
   "source": [
    "import numpy as np\n",
    "\n",
    "categorical_cols = df.select_dtypes(include=['object']).columns\n",
    "\n",
    "for col in categorical_cols:\n",
    "    try:\n",
    "        if df[col].apply(lambda x: isinstance(x, (list, np.ndarray))).any():\n",
    "            print(f\"Columna '{col}' contiene listas o arrays, se omite.\")\n",
    "            continue\n",
    "        unique_values = df[col].nunique()\n",
    "        print(f\"Columna '{col}' tiene {unique_values} valores únicos.\")\n",
    "    except Exception as e:\n",
    "        print(f\"Error en columna '{col}': {e}\")\n",
    "\n"
   ]
  },
  {
   "cell_type": "markdown",
   "metadata": {},
   "source": [
    "Se  optara por encodear en valores numericos aquellas columnas categoricas con 30 o menos valores unicos"
   ]
  },
  {
   "cell_type": "markdown",
   "metadata": {},
   "source": [
    "# Experimentacion de clasificadores"
   ]
  },
  {
   "cell_type": "code",
   "execution_count": 16,
   "metadata": {},
   "outputs": [],
   "source": [
    "X_train, y_train, X_test, y_test = build_dataset()"
   ]
  },
  {
   "cell_type": "code",
   "execution_count": 17,
   "metadata": {},
   "outputs": [
    {
     "name": "stdout",
     "output_type": "stream",
     "text": [
      "Columnas  codificadas como 'Nombre_Columna_enc'.\n",
      "Columnas booleanas codificadas: ['shipping_local_pick_up', 'accepts_mercadopago', 'automatic_relist']\n",
      "Columnas  codificadas como 'Nombre_Columna_enc'.\n",
      "Columnas booleanas codificadas: ['shipping_local_pick_up', 'accepts_mercadopago', 'automatic_relist']\n",
      "Hay nulos en X_test?  False\n",
      "Hay nulos en X_train?  False\n"
     ]
    }
   ],
   "source": [
    "X_train = preprocess(X_train)\n",
    "X_test = preprocess(X_test)\n",
    "\n",
    "# convertir target a binario\n",
    "y_train = list(map({'new': 1, 'used': 0}.get, y_train))\n",
    "y_test = list(map({'new': 1, 'used': 0}.get, y_test))\n",
    "\n",
    "# corroboro no haya nulos en los data frames\n",
    "print('Hay nulos en X_test? ', X_test.isna().sum().any())\n",
    "print('Hay nulos en X_train? ', X_train.isna().sum().any())"
   ]
  },
  {
   "cell_type": "code",
   "execution_count": 18,
   "metadata": {},
   "outputs": [],
   "source": [
    "# Selecciono columnas numericas\n",
    "numeric_cols = X_train.select_dtypes(include=['int64', 'float64']).columns\n",
    "numeric_cols_test = X_test.select_dtypes(include=['int64', 'float64']).columns\n",
    "X_train_numeric = X_train[numeric_cols]\n",
    "X_test_numeric = X_test[numeric_cols_test]"
   ]
  },
  {
   "cell_type": "code",
   "execution_count": 19,
   "metadata": {},
   "outputs": [],
   "source": [
    "#Vemos correlación entre variables numéricas para determihar si hay multicolinealidad y quedarnos con las más relevantes.\n",
    "df_matriz = X_train_numeric.copy()\n",
    "corr_matrix = df_matriz.corr()\n",
    "\n",
    "### Visualización de la matriz de correlación\n",
    "\n",
    "# plt.figure(figsize=(15, 10))\n",
    "# sns.heatmap(\n",
    "#     corr_matrix,\n",
    "#     annot=True,         # Muestra los valores\n",
    "#     fmt=\".1f\",          # Formato con 2 decimales\n",
    "#     cmap=\"coolwarm\",    # Paleta de colores\n",
    "#     square=True,        # Cuadrados proporcionales\n",
    "#     linewidths=0.7,     # Líneas entre celdas\n",
    "#     cbar_kws={\"shrink\": 0.8}  # Barra lateral más compacta\n",
    "# )\n",
    "# plt.title(\"Matriz de correlación\")\n",
    "# plt.tight_layout()\n",
    "# plt.show()"
   ]
  },
  {
   "cell_type": "code",
   "execution_count": 20,
   "metadata": {},
   "outputs": [
    {
     "name": "stdout",
     "output_type": "stream",
     "text": [
      "Top de correlaciones con el target:\n",
      "automatic_relist_enc       0.19\n",
      "listing_type_id_enc        0.14\n",
      "is_free_shipping           0.14\n",
      "has_warranty               0.13\n",
      "has_nuevo_in_title         0.12\n",
      "non_mp_methods_count       0.11\n",
      "title_word_count           0.10\n",
      "shipping_mode_enc         -0.10\n",
      "accepts_mercadopago_enc    0.09\n",
      "initial_quantity           0.07\n",
      "Name: condition_enc, dtype: float64\n"
     ]
    }
   ],
   "source": [
    "df_matriz = X_train[numeric_cols].copy()\n",
    "correlations = df_matriz.corr()['condition_enc'].drop('condition_enc') \n",
    "top_corr = correlations.reindex(correlations.abs().sort_values(ascending=False).index)\n",
    "\n",
    "print('Top de correlaciones con el target:')\n",
    "print(top_corr.head(10).round(2))\n",
    "\n",
    "\n",
    "# Crear nuevo DataFrame solo con columnas con cierto umbral de correlación\n",
    "# mask = abs(top_corr) > 0.015\n",
    "mask = top_corr.abs() > 0\n",
    "top_features = top_corr[mask].index.tolist()\n",
    "X_train_top = X_train_numeric[top_features]\n",
    "X_test_top = X_test_numeric[top_features]"
   ]
  },
  {
   "cell_type": "code",
   "execution_count": 21,
   "metadata": {},
   "outputs": [
    {
     "name": "stdout",
     "output_type": "stream",
     "text": [
      "Hay columna condition en X_train_numeric? False\n",
      "Hay columna condition en X_test_numeric? False\n",
      "Hay columna condition en X_train_top? False\n",
      "Hay columna condition en X_test_top? False\n",
      "Columnas utilizadas para entrenar:\n",
      "Index(['automatic_relist_enc', 'listing_type_id_enc', 'is_free_shipping',\n",
      "       'has_warranty', 'has_nuevo_in_title', 'non_mp_methods_count',\n",
      "       'title_word_count', 'shipping_mode_enc', 'accepts_mercadopago_enc',\n",
      "       'initial_quantity', 'sold_quantity', 'is_active', 'buying_mode_enc',\n",
      "       'pictures_count', 'shipping_local_pick_up_enc', 'has_original_price',\n",
      "       'seller_address_state_id_enc', 'currency_id_enc', 'stop_time',\n",
      "       'start_time', 'seller_address_state_name_enc', 'seller_id',\n",
      "       'seller_address_country_name_enc', 'price'],\n",
      "      dtype='object')\n"
     ]
    }
   ],
   "source": [
    "# Quito columna target antes de entrenar \n",
    "X_train_numeric = X_train_numeric.drop(columns=['condition_enc'], errors='ignore')\n",
    "\n",
    "# verifico que efectivamnete no este target ni en train ni test\n",
    "print('Hay columna condition en X_train_numeric?', 'condition_enc' in X_train_numeric.columns)\n",
    "print('Hay columna condition en X_test_numeric?', 'condition_enc' in X_test_numeric.columns)\n",
    "print('Hay columna condition en X_train_top?', 'condition_enc' in X_train_top.columns)\n",
    "print('Hay columna condition en X_test_top?', 'condition_enc' in X_test_top.columns)\n",
    "\n",
    "print('Columnas utilizadas para entrenar:')\n",
    "print(X_train_top.columns)"
   ]
  },
  {
   "cell_type": "code",
   "execution_count": 22,
   "metadata": {},
   "outputs": [],
   "source": [
    "## Escaleo los datos\n",
    "\n",
    "scaler = MinMaxScaler()\n",
    "X_train_top = scaler.fit_transform(X_train_top)\n",
    "X_test_top = scaler.transform(X_test_top)"
   ]
  },
  {
   "cell_type": "code",
   "execution_count": 23,
   "metadata": {},
   "outputs": [
    {
     "name": "stdout",
     "output_type": "stream",
     "text": [
      "[LightGBM] [Info] Number of positive: 48352, number of negative: 41648\n",
      "[LightGBM] [Info] Auto-choosing row-wise multi-threading, the overhead of testing was 0.004332 seconds.\n",
      "You can set `force_row_wise=true` to remove the overhead.\n",
      "And if memory is not enough, you can set `force_col_wise=true`.\n",
      "[LightGBM] [Info] Total Bins 1604\n",
      "[LightGBM] [Info] Number of data points in the train set: 90000, number of used features: 23\n",
      "[LightGBM] [Info] [binary:BoostFromScore]: pavg=0.537244 -> initscore=0.149254\n",
      "[LightGBM] [Info] Start training from score 0.149254\n"
     ]
    },
    {
     "name": "stderr",
     "output_type": "stream",
     "text": [
      "c:\\Users\\agu_r\\repositorios\\env_meli\\Lib\\site-packages\\sklearn\\utils\\validation.py:2739: UserWarning: X does not have valid feature names, but LGBMClassifier was fitted with feature names\n",
      "  warnings.warn(\n",
      "c:\\Users\\agu_r\\repositorios\\env_meli\\Lib\\site-packages\\sklearn\\utils\\validation.py:2739: UserWarning: X does not have valid feature names, but LGBMClassifier was fitted with feature names\n",
      "  warnings.warn(\n"
     ]
    }
   ],
   "source": [
    "# Lista de modelos\n",
    "\n",
    "\n",
    "MLA = [\n",
    "    ## Ensemble Methods\n",
    "    ensemble.AdaBoostClassifier(),\n",
    "    ensemble.BaggingClassifier(),\n",
    "    ensemble.ExtraTreesClassifier(),\n",
    "    ensemble.GradientBoostingClassifier(),\n",
    "    ensemble.RandomForestClassifier(),\n",
    "    ensemble.HistGradientBoostingClassifier(),\n",
    "\n",
    "    ## Boosting externos\n",
    "    XGBClassifier(),\n",
    "    LGBMClassifier(),\n",
    "    CatBoostClassifier(verbose=0),\n",
    "\n",
    "    ## GLM\n",
    "    # linear_model.LogisticRegression(max_iter=1000),\n",
    "    # linear_model.LogisticRegressionCV(max_iter=1000),\n",
    "    # linear_model.RidgeClassifier(),\n",
    "    # linear_model.SGDClassifier(),\n",
    "\n",
    "    # ## Nearest Neighbor\n",
    "    # neighbors.KNeighborsClassifier(),\n",
    "    # neighbors.RadiusNeighborsClassifier(radius=5.0),\n",
    "\n",
    "    ## SVM\n",
    "    # svm.SVC(),\n",
    "    # svm.LinearSVC(max_iter=10000),\n",
    "    # svm.NuSVC(),\n",
    "\n",
    "    ## Trees\n",
    "    tree.DecisionTreeClassifier(),\n",
    "    tree.ExtraTreeClassifier(),\n",
    "\n",
    "    # ## Discriminant Analysis\n",
    "    # discriminant_analysis.LinearDiscriminantAnalysis(),\n",
    "    # discriminant_analysis.QuadraticDiscriminantAnalysis(),\n",
    "\n",
    "    # ## Naive Bayes\n",
    "    # naive_bayes.GaussianNB(),\n",
    "    # naive_bayes.MultinomialNB(),\n",
    "    # naive_bayes.BernoulliNB(),\n",
    "    naive_bayes.ComplementNB(),\n",
    "\n",
    "    ## Neural Network (shallow MLP)\n",
    "    # neural_network.MLPClassifier(\n",
    "    #     hidden_layer_sizes=(100,),\n",
    "    #     activation='relu',\n",
    "    #     solver='adam',\n",
    "    #     max_iter=300,\n",
    "    #     random_state=42\n",
    "    # )\n",
    "]\n",
    "\n",
    "\n",
    "# Tabla de comparación\n",
    "MLA_columns = [\n",
    "    'MLA Name',\n",
    "    'Accuracy',\n",
    "    'Precision',\n",
    "    'Recall',\n",
    "    'F1 Score',\n",
    "    'Tasa de mala clasificacion',\n",
    "    'Tiempo'\n",
    "]\n",
    "MLA_compare = pd.DataFrame(columns=MLA_columns)\n",
    "MLA_predict = pd.DataFrame()\n",
    "MLA_test = pd.DataFrame()\n",
    "\n",
    "# Loop de entrenamiento y evaluación\n",
    "row_index = 0\n",
    "for alg in MLA:\n",
    "    inicio = time.time()\n",
    "    \n",
    "    MLA_name = alg.__class__.__name__\n",
    "    MLA_compare.loc[row_index, 'MLA Name'] = MLA_name\n",
    "\n",
    "    alg.fit(X_train_top, y_train)\n",
    "    y_pred = alg.predict(X_test_top)\n",
    "\n",
    "    # Métricas\n",
    "    MLA_compare.loc[row_index, 'Accuracy'] = round(accuracy_score(y_test, y_pred), 3)\n",
    "    MLA_compare.loc[row_index, 'Precision'] = round(precision_score(y_test, y_pred), 3)\n",
    "    MLA_compare.loc[row_index, 'Recall'] = round(recall_score(y_test, y_pred), 3)\n",
    "    MLA_compare.loc[row_index, 'F1 Score'] = round(f1_score(y_test, y_pred), 3)\n",
    "    MLA_compare.loc[row_index, 'Tasa de mala clasificacion'] = round(1 - accuracy_score(y_test, y_pred), 3)\n",
    "\n",
    "    fin = time.time()\n",
    "    MLA_compare.loc[row_index, 'Tiempo'] = round(fin - inicio, 2)\n",
    "\n",
    "    # Predicciones para análisis\n",
    "    MLA_predict[MLA_name] = alg.predict(X_train_top)\n",
    "    MLA_test[MLA_name] = y_pred\n",
    "\n",
    "    row_index += 1\n",
    "\n",
    "# Ordenar por precisión\n",
    "MLA_compare.sort_values(by='Accuracy', ascending=False, inplace=True)\n",
    "\n",
    "\n"
   ]
  },
  {
   "cell_type": "code",
   "execution_count": 24,
   "metadata": {},
   "outputs": [
    {
     "data": {
      "text/html": [
       "<div>\n",
       "<style scoped>\n",
       "    .dataframe tbody tr th:only-of-type {\n",
       "        vertical-align: middle;\n",
       "    }\n",
       "\n",
       "    .dataframe tbody tr th {\n",
       "        vertical-align: top;\n",
       "    }\n",
       "\n",
       "    .dataframe thead th {\n",
       "        text-align: right;\n",
       "    }\n",
       "</style>\n",
       "<table border=\"1\" class=\"dataframe\">\n",
       "  <thead>\n",
       "    <tr style=\"text-align: right;\">\n",
       "      <th></th>\n",
       "      <th>MLA Name</th>\n",
       "      <th>Accuracy</th>\n",
       "      <th>Precision</th>\n",
       "      <th>Recall</th>\n",
       "      <th>F1 Score</th>\n",
       "      <th>Tasa de mala clasificacion</th>\n",
       "      <th>Tiempo</th>\n",
       "    </tr>\n",
       "  </thead>\n",
       "  <tbody>\n",
       "    <tr>\n",
       "      <th>4</th>\n",
       "      <td>RandomForestClassifier</td>\n",
       "      <td>0.876</td>\n",
       "      <td>0.903</td>\n",
       "      <td>0.864</td>\n",
       "      <td>0.883</td>\n",
       "      <td>0.124</td>\n",
       "      <td>10.9</td>\n",
       "    </tr>\n",
       "    <tr>\n",
       "      <th>8</th>\n",
       "      <td>CatBoostClassifier</td>\n",
       "      <td>0.874</td>\n",
       "      <td>0.899</td>\n",
       "      <td>0.864</td>\n",
       "      <td>0.881</td>\n",
       "      <td>0.126</td>\n",
       "      <td>17.31</td>\n",
       "    </tr>\n",
       "    <tr>\n",
       "      <th>6</th>\n",
       "      <td>XGBClassifier</td>\n",
       "      <td>0.871</td>\n",
       "      <td>0.895</td>\n",
       "      <td>0.863</td>\n",
       "      <td>0.878</td>\n",
       "      <td>0.129</td>\n",
       "      <td>0.44</td>\n",
       "    </tr>\n",
       "    <tr>\n",
       "      <th>7</th>\n",
       "      <td>LGBMClassifier</td>\n",
       "      <td>0.867</td>\n",
       "      <td>0.894</td>\n",
       "      <td>0.854</td>\n",
       "      <td>0.874</td>\n",
       "      <td>0.133</td>\n",
       "      <td>0.62</td>\n",
       "    </tr>\n",
       "    <tr>\n",
       "      <th>2</th>\n",
       "      <td>ExtraTreesClassifier</td>\n",
       "      <td>0.866</td>\n",
       "      <td>0.88</td>\n",
       "      <td>0.872</td>\n",
       "      <td>0.876</td>\n",
       "      <td>0.134</td>\n",
       "      <td>9.4</td>\n",
       "    </tr>\n",
       "    <tr>\n",
       "      <th>5</th>\n",
       "      <td>HistGradientBoostingClassifier</td>\n",
       "      <td>0.864</td>\n",
       "      <td>0.893</td>\n",
       "      <td>0.851</td>\n",
       "      <td>0.871</td>\n",
       "      <td>0.136</td>\n",
       "      <td>4.67</td>\n",
       "    </tr>\n",
       "    <tr>\n",
       "      <th>1</th>\n",
       "      <td>BaggingClassifier</td>\n",
       "      <td>0.858</td>\n",
       "      <td>0.899</td>\n",
       "      <td>0.831</td>\n",
       "      <td>0.863</td>\n",
       "      <td>0.142</td>\n",
       "      <td>5.09</td>\n",
       "    </tr>\n",
       "    <tr>\n",
       "      <th>3</th>\n",
       "      <td>GradientBoostingClassifier</td>\n",
       "      <td>0.848</td>\n",
       "      <td>0.872</td>\n",
       "      <td>0.843</td>\n",
       "      <td>0.857</td>\n",
       "      <td>0.152</td>\n",
       "      <td>14.36</td>\n",
       "    </tr>\n",
       "    <tr>\n",
       "      <th>0</th>\n",
       "      <td>AdaBoostClassifier</td>\n",
       "      <td>0.828</td>\n",
       "      <td>0.827</td>\n",
       "      <td>0.864</td>\n",
       "      <td>0.845</td>\n",
       "      <td>0.172</td>\n",
       "      <td>3.15</td>\n",
       "    </tr>\n",
       "    <tr>\n",
       "      <th>9</th>\n",
       "      <td>DecisionTreeClassifier</td>\n",
       "      <td>0.82</td>\n",
       "      <td>0.838</td>\n",
       "      <td>0.826</td>\n",
       "      <td>0.832</td>\n",
       "      <td>0.18</td>\n",
       "      <td>0.84</td>\n",
       "    </tr>\n",
       "    <tr>\n",
       "      <th>10</th>\n",
       "      <td>ExtraTreeClassifier</td>\n",
       "      <td>0.79</td>\n",
       "      <td>0.81</td>\n",
       "      <td>0.798</td>\n",
       "      <td>0.804</td>\n",
       "      <td>0.21</td>\n",
       "      <td>0.11</td>\n",
       "    </tr>\n",
       "    <tr>\n",
       "      <th>11</th>\n",
       "      <td>ComplementNB</td>\n",
       "      <td>0.589</td>\n",
       "      <td>0.762</td>\n",
       "      <td>0.347</td>\n",
       "      <td>0.477</td>\n",
       "      <td>0.411</td>\n",
       "      <td>0.04</td>\n",
       "    </tr>\n",
       "  </tbody>\n",
       "</table>\n",
       "</div>"
      ],
      "text/plain": [
       "                          MLA Name Accuracy Precision Recall F1 Score  \\\n",
       "4           RandomForestClassifier    0.876     0.903  0.864    0.883   \n",
       "8               CatBoostClassifier    0.874     0.899  0.864    0.881   \n",
       "6                    XGBClassifier    0.871     0.895  0.863    0.878   \n",
       "7                   LGBMClassifier    0.867     0.894  0.854    0.874   \n",
       "2             ExtraTreesClassifier    0.866      0.88  0.872    0.876   \n",
       "5   HistGradientBoostingClassifier    0.864     0.893  0.851    0.871   \n",
       "1                BaggingClassifier    0.858     0.899  0.831    0.863   \n",
       "3       GradientBoostingClassifier    0.848     0.872  0.843    0.857   \n",
       "0               AdaBoostClassifier    0.828     0.827  0.864    0.845   \n",
       "9           DecisionTreeClassifier     0.82     0.838  0.826    0.832   \n",
       "10             ExtraTreeClassifier     0.79      0.81  0.798    0.804   \n",
       "11                    ComplementNB    0.589     0.762  0.347    0.477   \n",
       "\n",
       "   Tasa de mala clasificacion Tiempo  \n",
       "4                       0.124   10.9  \n",
       "8                       0.126  17.31  \n",
       "6                       0.129   0.44  \n",
       "7                       0.133   0.62  \n",
       "2                       0.134    9.4  \n",
       "5                       0.136   4.67  \n",
       "1                       0.142   5.09  \n",
       "3                       0.152  14.36  \n",
       "0                       0.172   3.15  \n",
       "9                        0.18   0.84  \n",
       "10                       0.21   0.11  \n",
       "11                      0.411   0.04  "
      ]
     },
     "execution_count": 24,
     "metadata": {},
     "output_type": "execute_result"
    }
   ],
   "source": [
    "MLA_compare"
   ]
  },
  {
   "cell_type": "markdown",
   "metadata": {},
   "source": [
    "### Experimentamos variando las columnas utilizadas "
   ]
  },
  {
   "cell_type": "code",
   "execution_count": 25,
   "metadata": {},
   "outputs": [
    {
     "name": "stderr",
     "output_type": "stream",
     "text": [
      "c:\\Users\\agu_r\\repositorios\\env_meli\\Lib\\site-packages\\xgboost\\training.py:183: UserWarning: [14:46:14] WARNING: C:\\actions-runner\\_work\\xgboost\\xgboost\\src\\learner.cc:738: \n",
      "Parameters: { \"use_label_encoder\" } are not used.\n",
      "\n",
      "  bst.update(dtrain, iteration=i, fobj=obj)\n"
     ]
    },
    {
     "name": "stdout",
     "output_type": "stream",
     "text": [
      "Experimento 1: 20 columnas seleccionadas - Accuracy: 0.8776, Precision: 0.8969, Recall: 0.8740, F1 Score: 0.8853\n"
     ]
    },
    {
     "name": "stderr",
     "output_type": "stream",
     "text": [
      "c:\\Users\\agu_r\\repositorios\\env_meli\\Lib\\site-packages\\xgboost\\training.py:183: UserWarning: [14:46:22] WARNING: C:\\actions-runner\\_work\\xgboost\\xgboost\\src\\learner.cc:738: \n",
      "Parameters: { \"use_label_encoder\" } are not used.\n",
      "\n",
      "  bst.update(dtrain, iteration=i, fobj=obj)\n"
     ]
    },
    {
     "name": "stdout",
     "output_type": "stream",
     "text": [
      "Experimento 2: 23 columnas seleccionadas - Accuracy: 0.8856, Precision: 0.9034, Recall: 0.8827, F1 Score: 0.8930\n"
     ]
    },
    {
     "name": "stderr",
     "output_type": "stream",
     "text": [
      "c:\\Users\\agu_r\\repositorios\\env_meli\\Lib\\site-packages\\xgboost\\training.py:183: UserWarning: [14:46:31] WARNING: C:\\actions-runner\\_work\\xgboost\\xgboost\\src\\learner.cc:738: \n",
      "Parameters: { \"use_label_encoder\" } are not used.\n",
      "\n",
      "  bst.update(dtrain, iteration=i, fobj=obj)\n"
     ]
    },
    {
     "name": "stdout",
     "output_type": "stream",
     "text": [
      "Experimento 3: 20 columnas seleccionadas - Accuracy: 0.8341, Precision: 0.8754, Recall: 0.8082, F1 Score: 0.8404\n"
     ]
    },
    {
     "name": "stderr",
     "output_type": "stream",
     "text": [
      "c:\\Users\\agu_r\\repositorios\\env_meli\\Lib\\site-packages\\xgboost\\training.py:183: UserWarning: [14:46:41] WARNING: C:\\actions-runner\\_work\\xgboost\\xgboost\\src\\learner.cc:738: \n",
      "Parameters: { \"use_label_encoder\" } are not used.\n",
      "\n",
      "  bst.update(dtrain, iteration=i, fobj=obj)\n"
     ]
    },
    {
     "name": "stdout",
     "output_type": "stream",
     "text": [
      "Experimento 4: 23 columnas seleccionadas - Accuracy: 0.8859, Precision: 0.9049, Recall: 0.8816, F1 Score: 0.8931\n"
     ]
    },
    {
     "name": "stderr",
     "output_type": "stream",
     "text": [
      "c:\\Users\\agu_r\\repositorios\\env_meli\\Lib\\site-packages\\xgboost\\training.py:183: UserWarning: [14:46:51] WARNING: C:\\actions-runner\\_work\\xgboost\\xgboost\\src\\learner.cc:738: \n",
      "Parameters: { \"use_label_encoder\" } are not used.\n",
      "\n",
      "  bst.update(dtrain, iteration=i, fobj=obj)\n"
     ]
    },
    {
     "name": "stdout",
     "output_type": "stream",
     "text": [
      "Experimento 5: 20 columnas seleccionadas - Accuracy: 0.8416, Precision: 0.8831, Recall: 0.8148, F1 Score: 0.8476\n"
     ]
    },
    {
     "name": "stderr",
     "output_type": "stream",
     "text": [
      "c:\\Users\\agu_r\\repositorios\\env_meli\\Lib\\site-packages\\xgboost\\training.py:183: UserWarning: [14:47:00] WARNING: C:\\actions-runner\\_work\\xgboost\\xgboost\\src\\learner.cc:738: \n",
      "Parameters: { \"use_label_encoder\" } are not used.\n",
      "\n",
      "  bst.update(dtrain, iteration=i, fobj=obj)\n"
     ]
    },
    {
     "name": "stdout",
     "output_type": "stream",
     "text": [
      "Experimento 6: 23 columnas seleccionadas - Accuracy: 0.8841, Precision: 0.9035, Recall: 0.8796, F1 Score: 0.8914\n"
     ]
    },
    {
     "name": "stderr",
     "output_type": "stream",
     "text": [
      "c:\\Users\\agu_r\\repositorios\\env_meli\\Lib\\site-packages\\xgboost\\training.py:183: UserWarning: [14:47:09] WARNING: C:\\actions-runner\\_work\\xgboost\\xgboost\\src\\learner.cc:738: \n",
      "Parameters: { \"use_label_encoder\" } are not used.\n",
      "\n",
      "  bst.update(dtrain, iteration=i, fobj=obj)\n"
     ]
    },
    {
     "name": "stdout",
     "output_type": "stream",
     "text": [
      "Experimento 7: 20 columnas seleccionadas - Accuracy: 0.8221, Precision: 0.8530, Recall: 0.8106, F1 Score: 0.8313\n"
     ]
    },
    {
     "name": "stderr",
     "output_type": "stream",
     "text": [
      "c:\\Users\\agu_r\\repositorios\\env_meli\\Lib\\site-packages\\xgboost\\training.py:183: UserWarning: [14:47:16] WARNING: C:\\actions-runner\\_work\\xgboost\\xgboost\\src\\learner.cc:738: \n",
      "Parameters: { \"use_label_encoder\" } are not used.\n",
      "\n",
      "  bst.update(dtrain, iteration=i, fobj=obj)\n"
     ]
    },
    {
     "name": "stdout",
     "output_type": "stream",
     "text": [
      "Experimento 8: 23 columnas seleccionadas - Accuracy: 0.8794, Precision: 0.8976, Recall: 0.8770, F1 Score: 0.8872\n"
     ]
    },
    {
     "name": "stderr",
     "output_type": "stream",
     "text": [
      "c:\\Users\\agu_r\\repositorios\\env_meli\\Lib\\site-packages\\xgboost\\training.py:183: UserWarning: [14:47:28] WARNING: C:\\actions-runner\\_work\\xgboost\\xgboost\\src\\learner.cc:738: \n",
      "Parameters: { \"use_label_encoder\" } are not used.\n",
      "\n",
      "  bst.update(dtrain, iteration=i, fobj=obj)\n"
     ]
    },
    {
     "name": "stdout",
     "output_type": "stream",
     "text": [
      "Experimento 9: 20 columnas seleccionadas - Accuracy: 0.8817, Precision: 0.8988, Recall: 0.8803, F1 Score: 0.8894\n"
     ]
    },
    {
     "name": "stderr",
     "output_type": "stream",
     "text": [
      "c:\\Users\\agu_r\\repositorios\\env_meli\\Lib\\site-packages\\xgboost\\training.py:183: UserWarning: [14:47:36] WARNING: C:\\actions-runner\\_work\\xgboost\\xgboost\\src\\learner.cc:738: \n",
      "Parameters: { \"use_label_encoder\" } are not used.\n",
      "\n",
      "  bst.update(dtrain, iteration=i, fobj=obj)\n"
     ]
    },
    {
     "name": "stdout",
     "output_type": "stream",
     "text": [
      "Experimento 10: 23 columnas seleccionadas - Accuracy: 0.8820, Precision: 0.9003, Recall: 0.8790, F1 Score: 0.8896\n",
      "\n",
      "Resultados de los experimentos:\n",
      "   exp  accuracy  precision    recall  f1_score\n",
      "3    4    0.8859   0.904879  0.881613  0.893095\n",
      "1    2    0.8856   0.903446  0.882723  0.892964\n",
      "5    6    0.8841   0.903477  0.879578  0.891368\n",
      "9   10    0.8820   0.900341  0.879023  0.889554\n",
      "8    9    0.8817   0.898772  0.880318  0.889450\n",
      "7    8    0.8794   0.897577  0.876989  0.887163\n",
      "0    1    0.8776   0.896925  0.874029  0.885329\n",
      "4    5    0.8416   0.883119  0.814835  0.847604\n",
      "2    3    0.8341   0.875376  0.808176  0.840435\n",
      "6    7    0.8221   0.853027  0.810581  0.831262\n"
     ]
    }
   ],
   "source": [
    "\n",
    "# Todas las columnas numéricas posibles (excluí el target si está presente)\n",
    "all_columns = X_train_numeric.columns.tolist()\n",
    "if 'condition_enc' in all_columns:\n",
    "    all_columns.remove('condition_enc')\n",
    "\n",
    "resultados = []\n",
    "\n",
    "# Número de experimentos\n",
    "n_experimentos = 5\n",
    "columnas_por_prueba = 20 \n",
    "# Lista de columnas a probar\n",
    "lista_cant_col = [ 20, 23]   \n",
    "# lista_cant_col = [24,20]   \n",
    "\n",
    "j = 0\n",
    "\n",
    "for i in range(n_experimentos):\n",
    "    for cant_col in lista_cant_col:\n",
    "        j += 1\n",
    "        # Selección aleatoria de columnas\n",
    "        if cant_col > len(all_columns):\n",
    "            raise ValueError(f\"⚠️ Estás pidiendo {cant_col} columnas, pero solo hay {len(all_columns)} disponibles.\")\n",
    "        columnas_random = random.sample(all_columns, cant_col)\n",
    "\n",
    "        # Subset de datos\n",
    "        X_train_sel = X_train_numeric[columnas_random]\n",
    "        X_test_sel = X_test_numeric[columnas_random]\n",
    "\n",
    "        X_train_sel, X_test_sel = scale_data(X_train_sel, X_test_sel)\n",
    "\n",
    "        # Modelo\n",
    "        model = XGBClassifier(\n",
    "                n_estimators=900,\n",
    "                max_depth=12,\n",
    "                learning_rate=0.05,\n",
    "                subsample=0.85,\n",
    "                colsample_bytree=0.7,\n",
    "                min_child_weight=1,\n",
    "                gamma=0,\n",
    "                scale_pos_weight=1,\n",
    "                use_label_encoder=False,\n",
    "                eval_metric='logloss',\n",
    "                random_state=42\n",
    "        )\n",
    "     \n",
    "\n",
    "        model.fit(X_train_sel, y_train)\n",
    "        y_pred = model.predict(X_test_sel)\n",
    "\n",
    "        # Métricas\n",
    "        acc = accuracy_score(y_test, y_pred)\n",
    "        prec = precision_score(y_test, y_pred)\n",
    "        rec = recall_score(y_test, y_pred)\n",
    "        f1 = f1_score(y_test, y_pred)\n",
    "\n",
    "        resultados.append({\n",
    "            \"exp\": j,\n",
    "            \"columns\": columnas_random,\n",
    "            \"cant_cols\": cant_col,\n",
    "            \"accuracy\": acc,\n",
    "            \"precision\": prec,\n",
    "            \"recall\": rec,\n",
    "            \"f1_score\": f1\n",
    "        })\n",
    "        # Imprimir progreso\n",
    "        print(f\"Experimento {j}: {cant_col} columnas seleccionadas - Accuracy: {acc:.4f}, Precision: {prec:.4f}, Recall: {rec:.4f}, F1 Score: {f1:.4f}\")\n",
    "\n",
    "# Mostrar resultados ordenados \n",
    "df_resultados = pd.DataFrame(resultados).sort_values(by=\"accuracy\", ascending=False)\n",
    "print(\"\\nResultados de los experimentos:\")\n",
    "print(df_resultados[[\"exp\", \"accuracy\", \"precision\", \"recall\", \"f1_score\"]])\n"
   ]
  },
  {
   "cell_type": "markdown",
   "metadata": {},
   "source": [
    "Mejor resultados con las siguientes columnas:\n",
    "\n",
    "['start_time',\n",
    "  'non_mp_methods_count',\n",
    "  'is_active',\n",
    "  'currency_id_enc',\n",
    "  'has_warranty',\n",
    "  'shipping_mode_enc',\n",
    "  'listing_type_id_enc',\n",
    "  'price',\n",
    "  'buying_mode_enc',\n",
    "  'automatic_relist_enc',\n",
    "  'has_original_price',\n",
    "  'pictures_count',\n",
    "  'seller_address_state_name_enc',\n",
    "  'sold_quantity',\n",
    "  'stop_time',\n",
    "  'seller_id',\n",
    "  'has_nuevo_in_title',\n",
    "  'initial_quantity']\n"
   ]
  },
  {
   "cell_type": "markdown",
   "metadata": {},
   "source": [
    "### Ajustamos hiperparametros"
   ]
  },
  {
   "cell_type": "code",
   "execution_count": 26,
   "metadata": {},
   "outputs": [
    {
     "name": "stdout",
     "output_type": "stream",
     "text": [
      "Fitting 2 folds for each of 2 candidates, totalling 4 fits\n",
      "\n",
      " Mejor score (xgboost): 0.8696\n",
      "📌 Mejores parámetros: {'subsample': 0.7, 'scale_pos_weight': np.float64(1.1609681137149443), 'reg_lambda': 3, 'reg_alpha': 0.1, 'n_estimators': 1100, 'min_child_weight': 2, 'max_depth': 12, 'learning_rate': 0.03, 'gamma': 0, 'colsample_bytree': 0.7}\n"
     ]
    }
   ],
   "source": [
    "# Ajustar parámetros del XGBoost\n",
    "\n",
    "# ratio de clases\n",
    "neg = np.sum(np.array(y_train) == 0)\n",
    "pos = np.sum(np.array(y_train) == 1)\n",
    "scale_ratio = pos / neg\n",
    "\n",
    "param_dist = {\n",
    "    'n_estimators': [900, 1100, 1300],\n",
    "    'learning_rate': [0.01, 0.03, 0.05],\n",
    "    'max_depth': [8, 10, 12],\n",
    "    'min_child_weight': [1, 2, 4],\n",
    "    'subsample': [0.7, 0.8, 0.9],\n",
    "    'colsample_bytree': [0.6, 0.7, 0.8],\n",
    "    'gamma': [0, 0.5, 1],\n",
    "    'reg_alpha': [0, 0.1, 0.3],\n",
    "    'reg_lambda': [1, 3, 5],\n",
    "    'scale_pos_weight': [1, scale_ratio]\n",
    "}\n",
    "\n",
    "col_a_utilizar = ['start_time',\n",
    "  'non_mp_methods_count',\n",
    "  'is_active',\n",
    "  'currency_id_enc',\n",
    "  'has_warranty',\n",
    "  'shipping_mode_enc',\n",
    "  'listing_type_id_enc',\n",
    "  'price',\n",
    "  'buying_mode_enc',\n",
    "  'automatic_relist_enc',\n",
    "  'has_original_price',\n",
    "  'pictures_count',\n",
    "  'seller_address_state_name_enc',\n",
    "  'sold_quantity',\n",
    "  'stop_time',\n",
    "  'seller_id',\n",
    "  'has_nuevo_in_title',\n",
    "  'initial_quantity']\n",
    "\n",
    "\n",
    "\n",
    "X_train_sel = X_train_numeric[col_a_utilizar]\n",
    "X_test_sel = X_test_numeric[col_a_utilizar]\n",
    "\n",
    "X_train_sel, X_test_sel = scale_data(X_train_sel, X_test_sel)\n",
    "\n",
    "\n",
    "best_xgb = tune_model(\"xgboost\", X_train_sel, y_train, param_dist, n_iter=2, cv=2) # se realizo una busqueda de 200 iteraciones y 2 cv\n"
   ]
  },
  {
   "cell_type": "code",
   "execution_count": 27,
   "metadata": {},
   "outputs": [],
   "source": [
    "# Ajustar parámetros del Random Forest\n",
    "\n",
    "\n",
    "param_dist = {\n",
    "    'n_estimators': [200, 500, 700, 800, 1000],\n",
    "    'max_depth': [None, 10, 20, 30],\n",
    "    'min_samples_split': [2, 5, 10],\n",
    "    'min_samples_leaf': [1, 2, 4],\n",
    "    'bootstrap': [True, False]\n",
    "}\n",
    "\n",
    "col_a_utilizar = ['start_time',\n",
    "  'non_mp_methods_count',\n",
    "  'is_active',\n",
    "  'currency_id_enc',\n",
    "  'has_warranty',\n",
    "  'shipping_mode_enc',\n",
    "  'listing_type_id_enc',\n",
    "  'price',\n",
    "  'buying_mode_enc',\n",
    "  'automatic_relist_enc',\n",
    "  'has_original_price',\n",
    "  'pictures_count',\n",
    "  'seller_address_state_name_enc',\n",
    "  'sold_quantity',\n",
    "  'stop_time',\n",
    "  'seller_id',\n",
    "  'has_nuevo_in_title',\n",
    "  'initial_quantity']\n",
    "\n",
    "\n",
    "X_train_sel = X_train_numeric[col_a_utilizar]\n",
    "X_test_sel = X_test_numeric[col_a_utilizar]\n",
    "\n",
    "X_train_sel, X_test_sel = scale_data(X_train_sel, X_test_sel)\n",
    "\n",
    "# best_rf = tune_model(\"random_forest\", X_train_sel, y_train, n_iter=30, cv=5)"
   ]
  },
  {
   "cell_type": "code",
   "execution_count": 28,
   "metadata": {},
   "outputs": [
    {
     "name": "stdout",
     "output_type": "stream",
     "text": [
      "✅ Precisión final del modelo ganador: 0.8826\n"
     ]
    }
   ],
   "source": [
    "# defino el modelo ganador\n",
    "best_model = best_xgb  \n",
    "# Entreno el modelo ganador con todo el conjunto de entrenamiento\n",
    "best_model.fit(X_train_top, y_train)\n",
    "# Predicciones finales\n",
    "y_pred_final = best_model.predict(X_test_top)\n",
    "# Evaluación final\n",
    "final_accuracy = accuracy_score(y_test, y_pred_final)\n",
    "print(f\"✅ Precisión final del modelo ganador: {final_accuracy:.4f}\")\n"
   ]
  },
  {
   "cell_type": "markdown",
   "metadata": {},
   "source": [
    "#### Pruebas libres sobre el mejor Modelo encontrado"
   ]
  },
  {
   "cell_type": "code",
   "execution_count": 29,
   "metadata": {},
   "outputs": [
    {
     "name": "stdout",
     "output_type": "stream",
     "text": [
      "🧮 Ratio calculado: 0.86\n"
     ]
    }
   ],
   "source": [
    "\n",
    "neg = np.sum(np.array(y_train) == 0)\n",
    "pos = np.sum(np.array(y_train) == 1)\n",
    "scale_ratio = neg / pos\n",
    "\n",
    "print(f\"🧮 Ratio calculado: {scale_ratio:.2f}\")"
   ]
  },
  {
   "cell_type": "code",
   "execution_count": 30,
   "metadata": {},
   "outputs": [
    {
     "name": "stderr",
     "output_type": "stream",
     "text": [
      "c:\\Users\\agu_r\\repositorios\\env_meli\\Lib\\site-packages\\xgboost\\training.py:183: UserWarning: [14:48:31] WARNING: C:\\actions-runner\\_work\\xgboost\\xgboost\\src\\learner.cc:738: \n",
      "Parameters: { \"use_label_encoder\" } are not used.\n",
      "\n",
      "  bst.update(dtrain, iteration=i, fobj=obj)\n"
     ]
    },
    {
     "name": "stdout",
     "output_type": "stream",
     "text": [
      "✅ Accuracy final del modelo ganador: 0.8887\n",
      "✅ Precisión final del modelo ganador: 0.9058\n"
     ]
    }
   ],
   "source": [
    "model = XGBClassifier(\n",
    "        n_estimators=900,\n",
    "        max_depth=12,\n",
    "        learning_rate=0.05,\n",
    "        subsample=0.85,\n",
    "        colsample_bytree=0.7,\n",
    "        min_child_weight=1,\n",
    "        gamma=0,\n",
    "        scale_pos_weight=1,\n",
    "        use_label_encoder=False,\n",
    "        eval_metric='logloss',\n",
    "        random_state=42\n",
    ")\n",
    "# model = XGBClassifier(\n",
    "#         subsample= 0.9,\n",
    "#         scale_pos_weight= 1,\n",
    "#         reg_lambda= 1,\n",
    "#         reg_alpha= 0,\n",
    "#         n_estimators= 1100,\n",
    "#         min_child_weight= 1,\n",
    "#         max_depth= 10,\n",
    "#         learning_rate= 0.03,\n",
    "#         gamma= 0.5,\n",
    "#         colsample_bytree= 0.6)\n",
    "\n",
    "\n",
    "\n",
    "col_a_utilizar = ['start_time',\n",
    "  'non_mp_methods_count',\n",
    "  'is_active',\n",
    "  'currency_id_enc',\n",
    "  'has_warranty',\n",
    "  'shipping_mode_enc',\n",
    "  'listing_type_id_enc',\n",
    "  'price',\n",
    "  'buying_mode_enc',\n",
    "  'automatic_relist_enc',\n",
    "  'has_original_price',\n",
    "  'pictures_count',\n",
    "  'seller_address_state_name_enc',\n",
    "  'sold_quantity',\n",
    "  'stop_time',\n",
    "  'seller_id',\n",
    "  'has_nuevo_in_title',\n",
    "  'initial_quantity']\n",
    "\n",
    "# col_a_utilizar = ['has_nuevo_in_title',\n",
    "#   'is_free_shipping',\n",
    "#   'sold_quantity',\n",
    "#   'initial_quantity',\n",
    "#   'listing_type_id_enc',\n",
    "#   'pictures_count',\n",
    "#   'seller_address_country_name_enc',\n",
    "#   'start_time',\n",
    "#   'non_mp_methods_count',\n",
    "#   'automatic_relist_enc',\n",
    "#   'buying_mode_enc',\n",
    "#   'seller_address_state_name_enc',\n",
    "#   'price',\n",
    "#   'has_warranty',\n",
    "#   'seller_id',\n",
    "#   'shipping_mode_enc',\n",
    "#   'is_active',\n",
    "#   'accepts_mercadopago_enc',\n",
    "#   'title_word_count',\n",
    "#   'has_original_price']\n",
    "\n",
    "\n",
    "X_train_sel = X_train_numeric[col_a_utilizar]\n",
    "X_test_sel = X_test_numeric[col_a_utilizar]\n",
    "\n",
    "\n",
    "X_train_sel, X_test_sel = scale_data(X_train_sel, X_test_sel)\n",
    "\n",
    "\n",
    "model.fit(X_train_sel, y_train)\n",
    "# Predicciones finales\n",
    "y_pred_final = model.predict(X_test_sel)\n",
    "# Evaluación final\n",
    "final_accuracy = accuracy_score(y_test, y_pred_final)\n",
    "final_precision = precision_score(y_test, y_pred_final)\n",
    "print(f\"✅ Accuracy final del modelo ganador: {final_accuracy:.4f}\")\n",
    "print(f\"✅ Precisión final del modelo ganador: {final_precision:.4f}\")"
   ]
  },
  {
   "cell_type": "markdown",
   "metadata": {},
   "source": [
    "Vemos la matriz de confusion del modelo."
   ]
  },
  {
   "cell_type": "code",
   "execution_count": 31,
   "metadata": {},
   "outputs": [
    {
     "data": {
      "image/png": "[encoded data removed]",
      "text/plain": [
       "<Figure size 800x600 with 2 Axes>"
      ]
     },
     "metadata": {},
     "output_type": "display_data"
    }
   ],
   "source": [
    "#plot matrix de confusión\n",
    "\n",
    "from sklearn.metrics import confusion_matrix\n",
    "import seaborn as sns\n",
    "cm = confusion_matrix(y_test, y_pred_final)\n",
    "plt.figure(figsize=(8, 6))\n",
    "sns.heatmap(cm, annot=True, fmt='d', cmap='Blues', xticklabels=['Used', 'New'], yticklabels=['Used', 'New'])\n",
    "plt.title('Matriz de Confusión')\n",
    "plt.xlabel('Predicción')\n",
    "plt.ylabel('Realidad')\n",
    "plt.tight_layout()\n",
    "plt.show()\n"
   ]
  }
 ],
 "metadata": {
  "kernelspec": {
   "display_name": "env_meli",
   "language": "python",
   "name": "python3"
  },
  "language_info": {
   "codemirror_mode": {
    "name": "ipython",
    "version": 3
   },
   "file_extension": ".py",
   "mimetype": "text/x-python",
   "name": "python",
   "nbconvert_exporter": "python",
   "pygments_lexer": "ipython3",
   "version": "3.13.3"
  }
 },
 "nbformat": 4,
 "nbformat_minor": 2
}
